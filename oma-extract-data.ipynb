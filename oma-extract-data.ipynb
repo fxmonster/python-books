{
 "cells": [
  {
   "cell_type": "markdown",
   "metadata": {},
   "source": [
    "Пример работы с xpath\n",
    "http://www.py-my.ru/post/4bfb3c6a1d41c846bc0000be"
   ]
  },
  {
   "cell_type": "code",
   "execution_count": 23,
   "metadata": {},
   "outputs": [],
   "source": [
    "import os\n",
    "import sys\n",
    "import codecs\n",
    "import collections"
   ]
  },
  {
   "cell_type": "code",
   "execution_count": 24,
   "metadata": {},
   "outputs": [],
   "source": [
    "import nltk\n",
    "from lxml import etree\n",
    "from lxml.html.clean import Cleaner"
   ]
  },
  {
   "cell_type": "code",
   "execution_count": 25,
   "metadata": {},
   "outputs": [],
   "source": [
    "file = codecs.open('mile/1.htm', encoding='utf-8')\n",
    "data = file.read();"
   ]
  },
  {
   "cell_type": "code",
   "execution_count": 26,
   "metadata": {},
   "outputs": [],
   "source": [
    "cleaner = Cleaner()\n",
    "cleaner.allow_tags = ['div', 'span', 'h2']\n",
    "cleaner.remove_unknown_tags = False\n",
    "clean_data = cleaner.clean_html(data)"
   ]
  },
  {
   "cell_type": "code",
   "execution_count": 66,
   "metadata": {},
   "outputs": [
    {
     "name": "stdout",
     "output_type": "stream",
     "text": [
      "['Ширина, см', 'Длина, см', 'Высота, см', 'Вес нетто, кг', 'Единицы измерения', 'Вес брутто, кг', 'Объем, м3', 'Количество товара в упаковке']\n"
     ]
    }
   ],
   "source": [
    "tree = etree.fromstring(clean_data)\n",
    "items = tree.xpath('//*[@class=\"param-item_name\"]/text()')\n",
    "print(items)"
   ]
  },
  {
   "cell_type": "code",
   "execution_count": 65,
   "metadata": {},
   "outputs": [
    {
     "name": "stdout",
     "output_type": "stream",
     "text": [
      "param-item_name\n",
      "Ширина, см\n",
      "param-item_name\n",
      "Длина, см\n",
      "param-item_name\n",
      "Высота, см\n",
      "param-item_name\n",
      "Вес нетто, кг\n",
      "param-item_name\n",
      "Единицы измерения\n",
      "param-item_name\n",
      "Вес брутто, кг\n",
      "param-item_name\n",
      "Объем, м3\n",
      "param-item_name\n",
      "Количество товара в упаковке\n"
     ]
    }
   ],
   "source": [
    "for node in tree.iterfind('.//*[@class=\"param-item_name\"]'): # поиск элементов\n",
    "    print(node.get('class'))\n",
    "    print(node.text)"
   ]
  },
  {
   "cell_type": "code",
   "execution_count": 67,
   "metadata": {},
   "outputs": [],
   "source": [
    "fout = codecs.open('mile/1.csv', encoding='utf-8', mode='w+')\n",
    "fout.write(\" \".join(items))\n",
    "fout.close()"
   ]
  },
  {
   "cell_type": "code",
   "execution_count": null,
   "metadata": {},
   "outputs": [],
   "source": []
  }
 ],
 "metadata": {
  "kernelspec": {
   "display_name": "Python 3",
   "language": "python",
   "name": "python3"
  },
  "language_info": {
   "codemirror_mode": {
    "name": "ipython",
    "version": 3
   },
   "file_extension": ".py",
   "mimetype": "text/x-python",
   "name": "python",
   "nbconvert_exporter": "python",
   "pygments_lexer": "ipython3",
   "version": "3.6.3"
  }
 },
 "nbformat": 4,
 "nbformat_minor": 2
}
